{
 "cells": [
  {
   "cell_type": "code",
   "execution_count": 1,
   "metadata": {},
   "outputs": [],
   "source": [
    "# I am very interested to see if the r-value gets better by making a master list, which\n",
    "# contains the information below, but all teams are included before the r-value is calculated\n",
    "\n",
    "# looks like that for teams that score more goals, there is a stronger correlation between\n",
    "# CA or FA and the number of goals they will score. Not sure if this means I should only consider\n",
    "# the top scoring teams when evaluating the combined r-value or if I should just use this information\n",
    "# to only bet on GPG for teams that score a lot"
   ]
  },
  {
   "cell_type": "code",
   "execution_count": 2,
   "metadata": {},
   "outputs": [],
   "source": [
    "import matplotlib.pyplot as plt\n",
    "import numpy as np\n",
    "import pandas as pd\n",
    "from pathlib import Path"
   ]
  },
  {
   "cell_type": "code",
   "execution_count": 3,
   "metadata": {},
   "outputs": [],
   "source": [
    "anaheim = pd.read_csv('../Data/2017_2018/2017_2018_Anaheim.csv'); anaheim.index += 1\n",
    "arizona = pd.read_csv('../Data/2017_2018/2017_2018_Arizona.csv'); arizona.index += 1\n",
    "boston = pd.read_csv('../Data/2017_2018/2017_2018_Boston.csv'); boston.index += 1\n",
    "tampa = pd.read_csv('../Data/2017_2018/2017_2018_Tampa.csv'); tampa.index += 1\n",
    "washington = pd.read_csv('../Data/2017_2018/2017_2018_Washington.csv'); washington.index += 1\n",
    "winnipeg = pd.read_csv('../Data/2017_2018/2017_2018_Winnipeg.csv'); winnipeg.index += 1"
   ]
  },
  {
   "cell_type": "code",
   "execution_count": 4,
   "metadata": {},
   "outputs": [],
   "source": [
    "team_list = [anaheim, arizona, boston, tampa, washington, winnipeg]"
   ]
  },
  {
   "cell_type": "code",
   "execution_count": 5,
   "metadata": {},
   "outputs": [
    {
     "name": "stdout",
     "output_type": "stream",
     "text": [
      "ANA\n",
      "\t CA r = 0.05686\n",
      "\t FA r = 0.0886\n",
      "ARI\n",
      "\t CA r = 0.01449\n",
      "\t FA r = -0.00285\n",
      "BOS\n",
      "\t CA r = 0.01838\n",
      "\t FA r = 0.02449\n",
      "TBL\n",
      "\t CA r = 0.12096\n",
      "\t FA r = 0.1078\n",
      "WSH\n",
      "\t CA r = 0.07999\n",
      "\t FA r = 0.00795\n",
      "WPG\n",
      "\t CA r = 0.08559\n",
      "\t FA r = 0.06034\n"
     ]
    }
   ],
   "source": [
    "all_teams = pd.read_csv('../Data/2017_2018/2017_2018_All_teams.csv'); all_teams.index += 1\n",
    "all_teams = all_teams[ ['Tm', 'CF', 'CA', 'CF%', 'FF', 'FA', 'FF%'] ]\n",
    "all_teams.rename(columns={'Tm':'Opp'}, inplace=True)\n",
    "\n",
    "total_results = np.array(['Tm', 'CA', 'FA'])\n",
    "initial_len = np.size(total_results)\n",
    "\n",
    "for team in team_list:\n",
    "    team = team[ ['Tm', 'Date', 'Opp', 'Result', 'Length', 'G'] ].copy()\n",
    "    print(team['Tm'].iloc[0])\n",
    "    total_results = np.append(total_results, team['Tm'].iloc[0])\n",
    "    # if game went to OT/SO and Tampa won, then Score -= 1\n",
    "    team.loc[(team.Result == 'W') & pd.notnull(team.Length) , 'G'] = team.G - 1 \n",
    "    # merge team with all_teams\n",
    "    merged_df = pd.merge(team, all_teams, on='Opp'); merged_df.index +=1\n",
    "\n",
    "    y_column = merged_df.loc[:,'G']\n",
    "    y_vals = y_column.values\n",
    "\n",
    "    for stat in total_results[1:initial_len]:\n",
    "        x_column = merged_df.loc[:,stat]\n",
    "        x_vals = x_column.values\n",
    "        r = np.round(np.corrcoef(x_vals, y_vals)[0][1], 5)\n",
    "        total_results = np.append(total_results, r)\n",
    "        print('\\t', stat, 'r =', r)"
   ]
  },
  {
   "cell_type": "code",
   "execution_count": 6,
   "metadata": {},
   "outputs": [
    {
     "data": {
      "text/html": [
       "<div>\n",
       "<style scoped>\n",
       "    .dataframe tbody tr th:only-of-type {\n",
       "        vertical-align: middle;\n",
       "    }\n",
       "\n",
       "    .dataframe tbody tr th {\n",
       "        vertical-align: top;\n",
       "    }\n",
       "\n",
       "    .dataframe thead th {\n",
       "        text-align: right;\n",
       "    }\n",
       "</style>\n",
       "<table border=\"1\" class=\"dataframe\">\n",
       "  <thead>\n",
       "    <tr style=\"text-align: right;\">\n",
       "      <th></th>\n",
       "      <th>0</th>\n",
       "      <th>1</th>\n",
       "      <th>2</th>\n",
       "    </tr>\n",
       "  </thead>\n",
       "  <tbody>\n",
       "    <tr>\n",
       "      <th>0</th>\n",
       "      <td>Tm</td>\n",
       "      <td>CA</td>\n",
       "      <td>FA</td>\n",
       "    </tr>\n",
       "    <tr>\n",
       "      <th>1</th>\n",
       "      <td>ANA</td>\n",
       "      <td>0.05686</td>\n",
       "      <td>0.0886</td>\n",
       "    </tr>\n",
       "    <tr>\n",
       "      <th>2</th>\n",
       "      <td>ARI</td>\n",
       "      <td>0.01449</td>\n",
       "      <td>-0.00285</td>\n",
       "    </tr>\n",
       "    <tr>\n",
       "      <th>3</th>\n",
       "      <td>BOS</td>\n",
       "      <td>0.01838</td>\n",
       "      <td>0.02449</td>\n",
       "    </tr>\n",
       "    <tr>\n",
       "      <th>4</th>\n",
       "      <td>TBL</td>\n",
       "      <td>0.12096</td>\n",
       "      <td>0.1078</td>\n",
       "    </tr>\n",
       "    <tr>\n",
       "      <th>5</th>\n",
       "      <td>WSH</td>\n",
       "      <td>0.07999</td>\n",
       "      <td>0.00795</td>\n",
       "    </tr>\n",
       "    <tr>\n",
       "      <th>6</th>\n",
       "      <td>WPG</td>\n",
       "      <td>0.08559</td>\n",
       "      <td>0.06034</td>\n",
       "    </tr>\n",
       "  </tbody>\n",
       "</table>\n",
       "</div>"
      ],
      "text/plain": [
       "     0        1         2\n",
       "0   Tm       CA        FA\n",
       "1  ANA  0.05686    0.0886\n",
       "2  ARI  0.01449  -0.00285\n",
       "3  BOS  0.01838   0.02449\n",
       "4  TBL  0.12096    0.1078\n",
       "5  WSH  0.07999   0.00795\n",
       "6  WPG  0.08559   0.06034"
      ]
     },
     "execution_count": 6,
     "metadata": {},
     "output_type": "execute_result"
    }
   ],
   "source": [
    "total_results = total_results.reshape(len(team_list)+1, initial_len)\n",
    "pd.DataFrame(total_results)"
   ]
  },
  {
   "cell_type": "code",
   "execution_count": null,
   "metadata": {},
   "outputs": [],
   "source": []
  }
 ],
 "metadata": {
  "kernelspec": {
   "display_name": "Python 3",
   "language": "python",
   "name": "python3"
  },
  "language_info": {
   "codemirror_mode": {
    "name": "ipython",
    "version": 3
   },
   "file_extension": ".py",
   "mimetype": "text/x-python",
   "name": "python",
   "nbconvert_exporter": "python",
   "pygments_lexer": "ipython3",
   "version": "3.6.10"
  }
 },
 "nbformat": 4,
 "nbformat_minor": 4
}
